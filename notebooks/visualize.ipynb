{
 "cells": [
  {
   "cell_type": "code",
   "execution_count": 1,
   "id": "74770d7f",
   "metadata": {},
   "outputs": [],
   "source": [
    "import sys\n",
    "sys.path.append(\"../src\")"
   ]
  },
  {
   "cell_type": "code",
   "execution_count": 2,
   "id": "1ad173d6",
   "metadata": {},
   "outputs": [],
   "source": [
    "import pandas as pd\n",
    "import results\n",
    "import matplotlib.pyplot as plt"
   ]
  },
  {
   "cell_type": "markdown",
   "id": "1c5b2859",
   "metadata": {},
   "source": [
    "## Result Quality"
   ]
  },
  {
   "cell_type": "code",
   "execution_count": 3,
   "id": "d7e3b3ac",
   "metadata": {},
   "outputs": [
    {
     "data": {
      "text/html": [
       "<div>\n",
       "<style scoped>\n",
       "    .dataframe tbody tr th:only-of-type {\n",
       "        vertical-align: middle;\n",
       "    }\n",
       "\n",
       "    .dataframe tbody tr th {\n",
       "        vertical-align: top;\n",
       "    }\n",
       "\n",
       "    .dataframe thead tr th {\n",
       "        text-align: left;\n",
       "    }\n",
       "\n",
       "    .dataframe thead tr:last-of-type th {\n",
       "        text-align: right;\n",
       "    }\n",
       "</style>\n",
       "<table border=\"1\" class=\"dataframe\">\n",
       "  <thead>\n",
       "    <tr>\n",
       "      <th></th>\n",
       "      <th>BA</th>\n",
       "      <th>roc_auc</th>\n",
       "    </tr>\n",
       "    <tr>\n",
       "      <th>Experiment</th>\n",
       "      <th>mkl-gak-fftrbf-ghafoori-10-0.06.csv</th>\n",
       "      <th>mkl-gak-fftrbf-ghafoori-10-0.06.csv</th>\n",
       "    </tr>\n",
       "    <tr>\n",
       "      <th>data</th>\n",
       "      <th></th>\n",
       "      <th></th>\n",
       "    </tr>\n",
       "  </thead>\n",
       "  <tbody>\n",
       "    <tr>\n",
       "      <th>ArrowHead</th>\n",
       "      <td>0.75</td>\n",
       "      <td>0.85</td>\n",
       "    </tr>\n",
       "    <tr>\n",
       "      <th>CBF</th>\n",
       "      <td>0.65</td>\n",
       "      <td>0.81</td>\n",
       "    </tr>\n",
       "    <tr>\n",
       "      <th>ChlorineConcentration</th>\n",
       "      <td>0.48</td>\n",
       "      <td>0.43</td>\n",
       "    </tr>\n",
       "    <tr>\n",
       "      <th>ECG200</th>\n",
       "      <td>0.63</td>\n",
       "      <td>0.80</td>\n",
       "    </tr>\n",
       "    <tr>\n",
       "      <th>ECGFiveDays</th>\n",
       "      <td>0.66</td>\n",
       "      <td>0.82</td>\n",
       "    </tr>\n",
       "    <tr>\n",
       "      <th>GunPoint</th>\n",
       "      <td>0.68</td>\n",
       "      <td>0.89</td>\n",
       "    </tr>\n",
       "    <tr>\n",
       "      <th>Ham</th>\n",
       "      <td>0.50</td>\n",
       "      <td>0.50</td>\n",
       "    </tr>\n",
       "    <tr>\n",
       "      <th>Herring</th>\n",
       "      <td>0.54</td>\n",
       "      <td>0.45</td>\n",
       "    </tr>\n",
       "    <tr>\n",
       "      <th>Lightning2</th>\n",
       "      <td>0.57</td>\n",
       "      <td>0.76</td>\n",
       "    </tr>\n",
       "    <tr>\n",
       "      <th>MoteStrain</th>\n",
       "      <td>0.67</td>\n",
       "      <td>0.84</td>\n",
       "    </tr>\n",
       "    <tr>\n",
       "      <th>Strawberry</th>\n",
       "      <td>0.71</td>\n",
       "      <td>0.90</td>\n",
       "    </tr>\n",
       "    <tr>\n",
       "      <th>Symbols</th>\n",
       "      <td>0.70</td>\n",
       "      <td>0.93</td>\n",
       "    </tr>\n",
       "    <tr>\n",
       "      <th>ToeSegmentation1</th>\n",
       "      <td>0.61</td>\n",
       "      <td>0.77</td>\n",
       "    </tr>\n",
       "    <tr>\n",
       "      <th>ToeSegmentation2</th>\n",
       "      <td>0.63</td>\n",
       "      <td>0.80</td>\n",
       "    </tr>\n",
       "    <tr>\n",
       "      <th>TwoLeadECG</th>\n",
       "      <td>0.68</td>\n",
       "      <td>0.86</td>\n",
       "    </tr>\n",
       "    <tr>\n",
       "      <th>Wafer</th>\n",
       "      <td>0.65</td>\n",
       "      <td>0.76</td>\n",
       "    </tr>\n",
       "    <tr>\n",
       "      <th>Wine</th>\n",
       "      <td>0.45</td>\n",
       "      <td>0.44</td>\n",
       "    </tr>\n",
       "  </tbody>\n",
       "</table>\n",
       "</div>"
      ],
      "text/plain": [
       "                                                       BA  \\\n",
       "Experiment            mkl-gak-fftrbf-ghafoori-10-0.06.csv   \n",
       "data                                                        \n",
       "ArrowHead                                            0.75   \n",
       "CBF                                                  0.65   \n",
       "ChlorineConcentration                                0.48   \n",
       "ECG200                                               0.63   \n",
       "ECGFiveDays                                          0.66   \n",
       "GunPoint                                             0.68   \n",
       "Ham                                                  0.50   \n",
       "Herring                                              0.54   \n",
       "Lightning2                                           0.57   \n",
       "MoteStrain                                           0.67   \n",
       "Strawberry                                           0.71   \n",
       "Symbols                                              0.70   \n",
       "ToeSegmentation1                                     0.61   \n",
       "ToeSegmentation2                                     0.63   \n",
       "TwoLeadECG                                           0.68   \n",
       "Wafer                                                0.65   \n",
       "Wine                                                 0.45   \n",
       "\n",
       "                                                  roc_auc  \n",
       "Experiment            mkl-gak-fftrbf-ghafoori-10-0.06.csv  \n",
       "data                                                       \n",
       "ArrowHead                                            0.85  \n",
       "CBF                                                  0.81  \n",
       "ChlorineConcentration                                0.43  \n",
       "ECG200                                               0.80  \n",
       "ECGFiveDays                                          0.82  \n",
       "GunPoint                                             0.89  \n",
       "Ham                                                  0.50  \n",
       "Herring                                              0.45  \n",
       "Lightning2                                           0.76  \n",
       "MoteStrain                                           0.84  \n",
       "Strawberry                                           0.90  \n",
       "Symbols                                              0.93  \n",
       "ToeSegmentation1                                     0.77  \n",
       "ToeSegmentation2                                     0.80  \n",
       "TwoLeadECG                                           0.86  \n",
       "Wafer                                                0.76  \n",
       "Wine                                                 0.44  "
      ]
     },
     "execution_count": 3,
     "metadata": {},
     "output_type": "execute_result"
    }
   ],
   "source": [
    "results.ours(\"../results/0.05/\")[[\"BA\",\"roc_auc\"]].round(2)"
   ]
  },
  {
   "cell_type": "markdown",
   "id": "4dd0ab4b",
   "metadata": {},
   "source": [
    "## Runtime"
   ]
  },
  {
   "cell_type": "code",
   "execution_count": 4,
   "id": "001ab81d",
   "metadata": {},
   "outputs": [
    {
     "data": {
      "text/plain": [
       "<Figure size 432x288 with 0 Axes>"
      ]
     },
     "metadata": {},
     "output_type": "display_data"
    },
    {
     "data": {
      "image/png": "[encoded data removed]",
      "text/plain": [
       "<Figure size 432x288 with 1 Axes>"
      ]
     },
     "metadata": {
      "needs_background": "light"
     },
     "output_type": "display_data"
    }
   ],
   "source": [
    "runtime = results.ours(\"../results/runtime_various_length_of_ts\")\n",
    "df = runtime[\"train_time\"] + runtime[\"prediction_time\"]\n",
    "plt.figure()\n",
    "df.plot()\n",
    "plt.title(\"Runtime\")\n",
    "plt.xlabel(\"Time Series Length\")\n",
    "plt.ylabel(\"Runtime in $s$\")\n",
    "plt.show()"
   ]
  },
  {
   "cell_type": "code",
   "execution_count": 5,
   "id": "33924fea",
   "metadata": {},
   "outputs": [
    {
     "data": {
      "text/plain": [
       "<Figure size 432x288 with 0 Axes>"
      ]
     },
     "metadata": {},
     "output_type": "display_data"
    },
    {
     "data": {
      "image/png": "[encoded data removed]",
      "text/plain": [
       "<Figure size 432x288 with 1 Axes>"
      ]
     },
     "metadata": {
      "needs_background": "light"
     },
     "output_type": "display_data"
    }
   ],
   "source": [
    "runtime = results.ours(\"../results/runtime_various_number_of_samples\")\n",
    "df = runtime[\"train_time\"] + runtime[\"prediction_time\"]\n",
    "plt.figure()\n",
    "df.plot()\n",
    "plt.title(\"Runtime\")\n",
    "plt.xlabel(\"Number of Samples in Data set\")\n",
    "plt.ylabel(\"Runtime in $s$\")\n",
    "plt.show()"
   ]
  },
  {
   "cell_type": "code",
   "execution_count": null,
   "id": "f34610f8",
   "metadata": {},
   "outputs": [],
   "source": []
  }
 ],
 "metadata": {
  "kernelspec": {
   "display_name": "Python 3 (ipykernel)",
   "language": "python",
   "name": "python3"
  },
  "language_info": {
   "codemirror_mode": {
    "name": "ipython",
    "version": 3
   },
   "file_extension": ".py",
   "mimetype": "text/x-python",
   "name": "python",
   "nbconvert_exporter": "python",
   "pygments_lexer": "ipython3",
   "version": "3.8.12"
  }
 },
 "nbformat": 4,
 "nbformat_minor": 5
}
